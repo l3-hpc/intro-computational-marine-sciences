{
 "cells": [
  {
   "cell_type": "markdown",
   "metadata": {},
   "source": [
    "# Lab 3:  Introduction to Python I\n",
    "\n",
    "\n",
    "## Attribution\n",
    "The content for this lab is taken from the AGU 2021 Python for Earth Sciences workshop, developed and led by [Rebekah Esmaili](http://www.rebekahesmaili.com/) (bekah@umd.edu), Research Scientist, STC/JPSS.  We are grateful for Rebekah's generous support of Open Science and sharing all her hard work!\n",
    "\n",
    "Check out the original GitHub for the workshop, which also contains additional modules and great links to resources:\n",
    "\n",
    "https://github.com/modern-tools-workshop/AGU-python-workshop-2021\n",
    "\n",
    " \n",
    "---\n",
    "\n",
    "\n",
    "## Why Python?\n",
    "* General-purpose, cross-platform\n",
    "* Free and open source\n",
    "* Reasonably easy to learn\n",
    "* Expressive and succinct code, forces good style\n",
    "* Being interpreted and dynamically typed makes it great for data analysis\n",
    "* Robust ecosystem of scientific libraries, including powerful statistical and visualization packages\n",
    "* Large community of scientific users and large existing codebases\n",
    "* Major investment into Python ecosystem by Earth science research agencies, including NASA, NCAR, UK Met Office, and Lamont-Doherty Earth Observatory. See [Pangeo](https://pangeo.io).\n",
    "* Reads Earth science data formats like HDF, NetCDF, GRIB\n",
    "\n",
    "---\n",
    "\n",
    "## Lesson Objectives\n",
    "\n",
    "* You will learn to:\n",
    "    * Import relevant packages for scientific programming\n",
    "    * Read ASCII data\n",
    "    * Basic plotting and visualization\n",
    "   \n",
    "---\n",
    "\n",
    "## Basic Python Syntax"
   ]
  },
  {
   "cell_type": "markdown",
   "metadata": {},
   "source": [
    "The most basic Python command is to write words to the screen. In Jupyter notebooks, the result will appear below the line of code. To run the above command in a Jupyter notebook, highlight the cell and either click the run button (►) or press the **Shift** and **Enter** keys.  \n",
    "\n",
    "Commenting code is an important habit and essential for documenting and sharing work, so let's start doing that now."
   ]
  },
  {
   "cell_type": "code",
   "execution_count": null,
   "metadata": {},
   "outputs": [],
   "source": [
    "# This is a comment, python will not run this!\n",
    "print(\"Hello Earth\")"
   ]
  },
  {
   "cell_type": "markdown",
   "metadata": {},
   "source": [
    "In Python, variables are dynamically allocated, which means that you do not need to declare the type or size prior to storing data in them. Instead, Python will automatically guess the variable type based on the content of what you are assigning."
   ]
  },
  {
   "cell_type": "code",
   "execution_count": null,
   "metadata": {},
   "outputs": [],
   "source": [
    "#Define a bunch of variables!\n",
    "#Define an integer\n",
    "var_int = 8\n",
    "#Define a floating point number (float)\n",
    "#  floats have decimals, integers don't\n",
    "var_float = 15.0\n",
    "#I don't see a decimal, is it a float?  Python will tell us later.\n",
    "var_scifloat = 4e8\n",
    "#Define a complex number\n",
    "var_complex = complex(4, 2)\n",
    "#Define a string, which is a sequence of characters - H,e,l,l,o,..and so on\n",
    "var_greetings = 'Hello Earth'"
   ]
  },
  {
   "cell_type": "markdown",
   "metadata": {},
   "source": [
    "Defining a variable will not return any output.  Add print statements to check values within a block of code."
   ]
  },
  {
   "cell_type": "code",
   "execution_count": null,
   "metadata": {},
   "outputs": [],
   "source": [
    "#Add print statements to check the variables you set above.  \n",
    "#I'll do the first one, and you add the rest.\n",
    "print(var_int)\n",
    "#Your turn\n",
    "#"
   ]
  },
  {
   "cell_type": "markdown",
   "metadata": {},
   "source": [
    "Python has many built in functions, and the syntax is usually:\n",
    "\n",
    "```\n",
    "function_name(inputs)\n",
    "```\n",
    "You have already used two functions: *print()* and *complex()*. Another useful function is *type()*, which will tell us if the variable is an integer, a float, a complex number, or a string.  Let's check if Python agrees with the 'types' we assumed in our comments."
   ]
  },
  {
   "cell_type": "code",
   "execution_count": null,
   "metadata": {},
   "outputs": [],
   "source": [
    " type(var_int),  type(var_float), type(var_scifloat), type(var_complex), type(var_greetings)"
   ]
  },
  {
   "cell_type": "markdown",
   "metadata": {},
   "source": [
    "Python has the following built-in operators:\n",
    "\n",
    "* Addition, subtraction, multiplication, division: +, -, *, /\n",
    "* Exponential, integer division, modulus: \\**, //, %\n",
    "\n"
   ]
  },
  {
   "cell_type": "code",
   "execution_count": null,
   "metadata": {},
   "outputs": [],
   "source": [
    "2+2.0, var_int**2, var_float//var_int, var_float%var_int"
   ]
  },
  {
   "cell_type": "markdown",
   "metadata": {},
   "source": [
    "---\n",
    "\n",
    "**Exercise 1:** \n",
    "1. Use *type()* to test if the following are floats or integers:\n",
    "    * 2+2\n",
    "    * 2\\*2.0\n",
    "    * var_float/var_int\n",
    "---\n",
    "**Solution:**"
   ]
  },
  {
   "cell_type": "code",
   "execution_count": null,
   "metadata": {},
   "outputs": [],
   "source": []
  },
  {
   "cell_type": "code",
   "execution_count": null,
   "metadata": {},
   "outputs": [],
   "source": []
  },
  {
   "cell_type": "code",
   "execution_count": null,
   "metadata": {},
   "outputs": [],
   "source": []
  },
  {
   "cell_type": "markdown",
   "metadata": {},
   "source": [
    "## Working with Lists\n",
    "\n",
    "Lists are useful for storing scientific data. Lists are made using square brackets. They can hold any data type (integers, floats, and strings) and even mixtures of the two."
   ]
  },
  {
   "cell_type": "code",
   "execution_count": null,
   "metadata": {},
   "outputs": [],
   "source": [
    "numbers_list = [4, 8, 15, 16, 23]"
   ]
  },
  {
   "cell_type": "markdown",
   "metadata": {},
   "source": [
    "You can access elements of the list using the index. Python is zero based, so index 0 retrieves the first element."
   ]
  },
  {
   "cell_type": "code",
   "execution_count": null,
   "metadata": {},
   "outputs": [],
   "source": [
    "numbers_list[3]"
   ]
  },
  {
   "cell_type": "markdown",
   "metadata": {},
   "source": [
    "New items can be appended to the list using the *append* function, which has the syntax:\n",
    "\n",
    "```\n",
    "variable.function(element(s))\n",
    "```\n",
    "The list will be updated *in-place*."
   ]
  },
  {
   "cell_type": "code",
   "execution_count": null,
   "metadata": {},
   "outputs": [],
   "source": [
    "numbers_list.append(42)\n",
    "print(numbers_list)"
   ]
  },
  {
   "cell_type": "markdown",
   "metadata": {},
   "source": [
    "Perhaps we want to calculate the sum of the values in two lists. However, we cannot use the *+* like we did with single values. For list objects, the + will *combine* lists."
   ]
  },
  {
   "cell_type": "code",
   "execution_count": null,
   "metadata": {},
   "outputs": [],
   "source": [
    "numbers_list"
   ]
  },
  {
   "cell_type": "markdown",
   "metadata": {},
   "source": [
    "To perform mathematical operations, you can convert the above list to an array using the NumPy package."
   ]
  },
  {
   "cell_type": "markdown",
   "metadata": {},
   "source": [
    "---\n",
    "\n",
    "**Exercise 2:** \n",
    "1. Confirm that *numbers_list+numbers_list* does not add list items element by element, but appends a copy of itself.\n",
    "2. Try multiplying *numbers_list* by an integer number.\n",
    "3. Show only the first 4 elements of *numbers_list*. The syntax for taking a subset of a list is *[x:y]*.\n",
    "4. Using *append*, add your name to the list.  Names are strings, so use quotes, i.e., \"Bob\".  Does it work? \n",
    "---\n",
    "**Solution:**"
   ]
  },
  {
   "cell_type": "code",
   "execution_count": null,
   "metadata": {},
   "outputs": [],
   "source": []
  },
  {
   "cell_type": "code",
   "execution_count": null,
   "metadata": {},
   "outputs": [],
   "source": []
  },
  {
   "cell_type": "code",
   "execution_count": null,
   "metadata": {},
   "outputs": [],
   "source": []
  },
  {
   "cell_type": "code",
   "execution_count": null,
   "metadata": {},
   "outputs": [],
   "source": []
  },
  {
   "cell_type": "markdown",
   "metadata": {},
   "source": [
    "---\n",
    "If you successfully added your name to our *numbers_list*, then it won't be just numbers.  Let's fix it before using it as a numerical array in the next section."
   ]
  },
  {
   "cell_type": "code",
   "execution_count": null,
   "metadata": {},
   "outputs": [],
   "source": [
    "numbers_list = [4, 8, 15, 16, 23, 42]"
   ]
  },
  {
   "cell_type": "markdown",
   "metadata": {},
   "source": [
    "### Importing Packages\n",
    "\n",
    "Packages are collection of modules which help simplify common tasks. [NumPy](https://numpy.org/) is essential for mathematical operations and array manipulation.\n",
    "\n",
    "NumPy:\n",
    "* Provides high-performance multidimensional array objects and tools for working with these arrays.\n",
    "* Is a fundamental package for scientific computing with Python.\n",
    "* Is included with the Anaconda package manager.\n",
    "* For additional examples, please refer to the [the NumPy Quick Start](https://numpy.org/devdocs/user/quickstart.html).\n",
    "\n",
    "The basic syntax for calling packages is *import \\[package name\\]*. Some packages have long names.  You can use *import \\[package name\\] as \\[alias\\]* to avoid repeatedly typing that long name."
   ]
  },
  {
   "cell_type": "code",
   "execution_count": null,
   "metadata": {},
   "outputs": [],
   "source": [
    "import numpy as np"
   ]
  },
  {
   "cell_type": "markdown",
   "metadata": {},
   "source": [
    "If you do not see any error after running the line above, then the package was successfully imported.\n",
    "### Working with Arrays\n",
    "\n",
    "I can use NumPy’s array constructor *np.array()* to convert our list to a NumPy array and perform mathematical array operations. For example, I can double each element of the array:"
   ]
  },
  {
   "cell_type": "code",
   "execution_count": null,
   "metadata": {},
   "outputs": [],
   "source": [
    "numbers_array = np.array(numbers_list)\n",
    "numbers_array*2"
   ]
  },
  {
   "cell_type": "markdown",
   "metadata": {},
   "source": [
    "Another difference between arrays and lists is that lists can only be one-dimensional. NumPy can be any number of dimensions. For example, I can change the dimensions of the data using the *reshape()* function:"
   ]
  },
  {
   "cell_type": "code",
   "execution_count": null,
   "metadata": {},
   "outputs": [],
   "source": [
    "numbers_array_2d = numbers_array.reshape(3,2)\n",
    "numbers_array_2d"
   ]
  },
  {
   "cell_type": "code",
   "execution_count": null,
   "metadata": {},
   "outputs": [],
   "source": [
    "numbers_array_2d.shape"
   ]
  },
  {
   "cell_type": "markdown",
   "metadata": {},
   "source": [
    "The original *numbers_array* has a length of 6, and the new array has 2 rows and 3 columns."
   ]
  },
  {
   "cell_type": "markdown",
   "metadata": {},
   "source": [
    "---\n",
    "\n",
    "**Exercise 3:** \n",
    "1. Create a longer list, called *long_list*, by multiplying *numbers_list* by 5.\n",
    "2. Convert the list into a NumPy array, called *long_array*.\n",
    "3. Reshape *long_array* into a 2D array.  \n",
    "4. Reshape *long_array* into a 3D array.  \n",
    "\n",
    "**Note:** For 3 and 4, you will get errors unless the dimensions are compatible with the original array length.  Read the error and try again.\n",
    "\n",
    "---\n",
    "**Solution:**"
   ]
  },
  {
   "cell_type": "code",
   "execution_count": null,
   "metadata": {},
   "outputs": [],
   "source": []
  },
  {
   "cell_type": "code",
   "execution_count": null,
   "metadata": {},
   "outputs": [],
   "source": []
  },
  {
   "cell_type": "code",
   "execution_count": null,
   "metadata": {},
   "outputs": [],
   "source": []
  },
  {
   "cell_type": "code",
   "execution_count": null,
   "metadata": {},
   "outputs": [],
   "source": []
  },
  {
   "cell_type": "markdown",
   "metadata": {},
   "source": [
    "If you are having trouble with the above exercise, make sure *numbers_list* is set correctly, or just reset it here:"
   ]
  },
  {
   "cell_type": "code",
   "execution_count": null,
   "metadata": {},
   "outputs": [],
   "source": [
    "numbers_list = [4, 8, 15, 16, 23, 42]"
   ]
  },
  {
   "cell_type": "markdown",
   "metadata": {},
   "source": [
    "### Reading ASCII Data\n",
    "\n",
    "The Pandas package has a useful function for reading text/ASCII data called *read_csv()*. The function name is somewhat a misnomer, as *read_csv* will read any delimited data using the *delim=* keyword argument. Below, you will import the [Pandas](https://pandas.pydata.org/) package and read in a dataset. Note that the path below is relative to the current notebook and you may have to change the code if you are running locally on your computer:\n",
    "\n",
    "```\n",
    "data/VIIRSNDE_global2020258.v1.0.txt\n",
    "```\n",
    "\n",
    "We will look at the Visible Infrared Imaging Radiometer Suite (VIIRS) Active Fire product, a product that classifies if a pixel contains fire with various confidence levels. More information can be found at https://www.ospo.noaa.gov/Products/land/fire.html. We will examine the data on Sept 15, 2020 (day of year 258)."
   ]
  },
  {
   "cell_type": "code",
   "execution_count": null,
   "metadata": {},
   "outputs": [],
   "source": [
    "import pandas as pd"
   ]
  },
  {
   "cell_type": "markdown",
   "metadata": {},
   "source": [
    "The default seperator is a comma (,), however this data also contains space. The \"\\s*\" is used to indicate any space following the comma should be ignored. The *engine=\"python\"* keyword argument ensures that the command will work across different operating systems."
   ]
  },
  {
   "cell_type": "code",
   "execution_count": null,
   "metadata": {},
   "outputs": [],
   "source": [
    "fname = \"data/VIIRSNDE_global2020258.v1.0.txt\"\n",
    "fires = pd.read_csv(fname, sep=',\\s*', engine='python')"
   ]
  },
  {
   "cell_type": "markdown",
   "metadata": {},
   "source": [
    "You can inspect the contents of the dataset using the *head()* function, which will return the first five rows of the dataset. Pandas automatically stores data in structures called *DataFrames*. DataFrames are two dimensional (rows and columns) and resemble a spreadsheet. The leftmost column is the row index and is not part of the *fires* dataset. "
   ]
  },
  {
   "cell_type": "code",
   "execution_count": null,
   "metadata": {},
   "outputs": [],
   "source": [
    "fires.head()"
   ]
  },
  {
   "cell_type": "markdown",
   "metadata": {},
   "source": [
    "You can access individual columns of data using the column name. The following extracts the pixel brightness temperature (brt):"
   ]
  },
  {
   "cell_type": "code",
   "execution_count": null,
   "metadata": {},
   "outputs": [],
   "source": [
    "fires['brt_t13(K)']"
   ]
  },
  {
   "cell_type": "markdown",
   "metadata": {},
   "source": [
    "---\n",
    "\n",
    "**Exercise 4:** Import an ascii file\n",
    "\n",
    "1. Import the dataset \"20200901_20200930_Monterey.lev15.csv\" and save it to a variable called *aeronet*.\n",
    "2. Print the first few lines using *.head()*.\n",
    "3. Find a column that doesn't have only missing values (-999), and calculate the mean using the following syntax: *variable\\['column'\\].mean()*\n",
    "---\n",
    "**Solution:**"
   ]
  },
  {
   "cell_type": "code",
   "execution_count": null,
   "metadata": {},
   "outputs": [],
   "source": []
  },
  {
   "cell_type": "code",
   "execution_count": null,
   "metadata": {},
   "outputs": [],
   "source": []
  },
  {
   "cell_type": "code",
   "execution_count": null,
   "metadata": {},
   "outputs": [],
   "source": []
  },
  {
   "cell_type": "markdown",
   "metadata": {},
   "source": [
    "### Working with Masks and Masked Arrays\n",
    "\n",
    "When working with data, you may want to remove outliers or focus on a specific location. For example, you may only want examine data below or above a certain threshold. You can subset the data using comparison operators:\n",
    "\n",
    "* less than: **<**\n",
    "* less than or equal to: **<=**\n",
    "* greater than: **>**\n",
    "* greater than or equal to: **>=**\n",
    "* equals: **==**\n",
    "* not equals: **!=**\n",
    "\n",
    "A comparison espression returns a True or False statement.  Here are some examples: "
   ]
  },
  {
   "cell_type": "code",
   "execution_count": null,
   "metadata": {},
   "outputs": [],
   "source": [
    "#True or False?\n",
    "\"Apples\" == \"Oranges\""
   ]
  },
  {
   "cell_type": "code",
   "execution_count": null,
   "metadata": {},
   "outputs": [],
   "source": [
    "#True or False?\n",
    "500 <= 1"
   ]
  },
  {
   "cell_type": "markdown",
   "metadata": {},
   "source": [
    "You can also use a comparison expression to define a variable.  The data type is called a 'boolean', and boolean values are either True or False."
   ]
  },
  {
   "cell_type": "code",
   "execution_count": null,
   "metadata": {},
   "outputs": [],
   "source": [
    "#True or False and what type?\n",
    "fruit = \"Apples\" != \"Oranges\"\n",
    "print(fruit)\n",
    "print(type(fruit))"
   ]
  },
  {
   "cell_type": "markdown",
   "metadata": {},
   "source": [
    "For the *fires* dataset, we can focus on larger fires by selecting only those with a Fire Radiative Power (FRP) of over 100 megawatts (MW).  We use this conditional expression to create what is known as a \"mask\", which can be used later to create a new dataset with only the data we are interested in."
   ]
  },
  {
   "cell_type": "code",
   "execution_count": null,
   "metadata": {},
   "outputs": [],
   "source": [
    "#Mask will be True for all values over 100\n",
    "fire_mask = (fires['frp(MW)'] > 100)\n",
    "print(fire_mask)"
   ]
  },
  {
   "cell_type": "markdown",
   "metadata": {},
   "source": [
    "Applying the mask to the original dataframe gives us the subset of data we're interested in."
   ]
  },
  {
   "cell_type": "code",
   "execution_count": null,
   "metadata": {},
   "outputs": [],
   "source": [
    "#Just get the big fires\n",
    "big_fires = fires['frp(MW)'][fire_mask]\n",
    "print(big_fires)"
   ]
  },
  {
   "cell_type": "markdown",
   "metadata": {},
   "source": [
    "Hopefully there are not so many 'big' fires!  Let's check."
   ]
  },
  {
   "cell_type": "code",
   "execution_count": null,
   "metadata": {},
   "outputs": [],
   "source": [
    "#Length, or number of values in original dataset\n",
    "original_set = len(fires['frp(MW)'])\n",
    "#And of the 'big fires' dataset\n",
    "bigfires_set = len(big_fires)\n",
    "#Some math...what percent of fires were big ones\n",
    "percent_big = bigfires_set / original_set * 100.\n",
    "#And print\n",
    "print(\"Out of\",original_set,\"values,\",percent_big,\"% had a Fire Radiative Power (FRP) of over 100MW.\")"
   ]
  },
  {
   "cell_type": "markdown",
   "metadata": {},
   "source": [
    "---\n",
    "**Exercise 5:  Are you looking at the data?** \n",
    "\n",
    "Did you notice a problem with the answer in the previous cell?\n",
    "\n",
    "Use the *round()* function in order to give a more reasonable report.  See if you can figure out the syntax for *round* by experimenting.   \n",
    "\n",
    "---\n",
    "**Solution:**"
   ]
  },
  {
   "cell_type": "code",
   "execution_count": null,
   "metadata": {},
   "outputs": [],
   "source": [
    "#Use round to fix the problematic item here...\n",
    "#\n",
    "#"
   ]
  },
  {
   "cell_type": "code",
   "execution_count": null,
   "metadata": {},
   "outputs": [],
   "source": [
    "#After 'fixing' the offending value, print the report again:\n",
    "print(\"Out of\",original_set,\"values,\",percent_big,\"% had a Fire Radiative Power (FRP) of over 100MW.\")"
   ]
  },
  {
   "cell_type": "markdown",
   "metadata": {},
   "source": [
    "### I just hope there are no big fires *near me*! ###  \n",
    "To limit a study to a certain location, we would filter by 2 variables: latitude and longitude. To combine conditional expressions, use **and** (&) and **or** (|) statements. Below, we extract a 5&deg;x5&deg; box around Monterey, California."
   ]
  },
  {
   "cell_type": "code",
   "execution_count": null,
   "metadata": {},
   "outputs": [],
   "source": [
    "#This is a mask that will identify my new investment property in California...\n",
    "location_mask = (fires['Lat'] > 35.0) & (fires['Lat'] < 40.0) & (fires['Lon'] > -125.0) & (fires['Lon'] < -120.0)\n",
    "print(location_mask)"
   ]
  },
  {
   "cell_type": "markdown",
   "metadata": {},
   "source": [
    "Now, I want to find those fires *near me*!  We can apply my location mask to the fire data."
   ]
  },
  {
   "cell_type": "code",
   "execution_count": null,
   "metadata": {},
   "outputs": [],
   "source": [
    "monterey_fires = fires['frp(MW)'][location_mask]\n",
    "print(monterey_fires)"
   ]
  },
  {
   "cell_type": "markdown",
   "metadata": {},
   "source": [
    "Is the average Fire Radiative Power near my new investment property higher or lower than the global average? "
   ]
  },
  {
   "cell_type": "code",
   "execution_count": null,
   "metadata": {},
   "outputs": [],
   "source": [
    "#Do I need a new Realtor?\n",
    "monterey_mean = monterey_fires.mean()\n",
    "global_mean = fires['frp(MW)'].mean()\n",
    "#Percents again\n",
    "percent_bigger = monterey_mean / global_mean * 100.\n",
    "#Let me sneak in an 'if' statement...\n",
    "if(monterey_mean > global_mean):    \n",
    "    print(\"Your average FRP is\",round(percent_bigger),\"% higher than the global average.\")\n",
    "    print(\"You might need a new realtor.\")\n",
    "else:\n",
    "    print(\"Nah, your realtor is fine.\")\n",
    "#BTW, if I didn't suspect there would be more fires in California than in the rest of the world,\n",
    "#     maybe I need more than a new realtor..."
   ]
  },
  {
   "cell_type": "markdown",
   "metadata": {},
   "source": [
    "How does the size of the original dataset differ from the one we are using for the small location?  Use the *size* function to find out."
   ]
  },
  {
   "cell_type": "code",
   "execution_count": null,
   "metadata": {},
   "outputs": [],
   "source": [
    "print(\"Our dataset used only\", monterey_fires.size,\"values out of the original set of\",fires['frp(MW)'].size)"
   ]
  },
  {
   "cell_type": "markdown",
   "metadata": {},
   "source": [
    "When we used a mask on an array, it returned a smaller array - a subset of the original.  If it is necessary to preserve the size and shape of the original array, use NumPy's *masked array* module. The syntax is *np.ma.array()*, with an additional keyword argument *mask=* set to the inverse (~) of the *location_mask*."
   ]
  },
  {
   "cell_type": "code",
   "execution_count": null,
   "metadata": {},
   "outputs": [],
   "source": [
    "monterey_fires_ma = np.ma.array(fires['frp(MW)'], mask=~location_mask, fill_value=-999)\n",
    "monterey_fires_ma"
   ]
  },
  {
   "cell_type": "markdown",
   "metadata": {},
   "source": [
    "**Wait...does that give the same answer??**. To see if extra space and fill_values can affect the answer, check our NumPy masked array's mean from the subsetted mean we calculated earlier, called *monterey_mean*."
   ]
  },
  {
   "cell_type": "code",
   "execution_count": null,
   "metadata": {},
   "outputs": [],
   "source": [
    "print(monterey_fires_ma.mean())\n",
    "print(monterey_mean)\n",
    "print(monterey_fires_ma.mean() - monterey_mean)"
   ]
  },
  {
   "cell_type": "markdown",
   "metadata": {},
   "source": [
    "It gives *exactly* the same answer.  The **size** of the arrays differ."
   ]
  },
  {
   "cell_type": "code",
   "execution_count": null,
   "metadata": {},
   "outputs": [],
   "source": [
    "print(\"Why take up\",monterey_fires_ma.size,\"spaces when you only need\",monterey_fires.size,\"??  Because we can...\")"
   ]
  },
  {
   "cell_type": "markdown",
   "metadata": {},
   "source": [
    "### Always reality check the data... ###\n",
    "This example was a bit of fun, but it was also fairly ludicrous. Why was it silly to talk about the environmental conditions surrounding my 'investment property' using this data?  (Hint: For which date range did we analyze the data?) "
   ]
  },
  {
   "cell_type": "markdown",
   "metadata": {},
   "source": [
    "---\n",
    "**Exercise 6: Your turn to filter some data**\n",
    "\n",
    "Using the dataset imported in the **previous example** (*aeronet*):\n",
    "    \n",
    "1. Create a mask that filters the \"AOD_870nm\" column and includes values greater than 0.\n",
    "2. Create a new variable, *day_of_year*, that applies the mask to *aeronet\\['Day_of_Year(Fraction)'\\]*.\n",
    "3. Create a new variable, *aod_870*, that applies the mask to *aeronet\\['AOD_870nm'\\]*.\n",
    "4. Compare the mean value of *aeronet\\['AOD_870nm'\\]* to *aod_870*.\n",
    "5. Why are they different?\n",
    "    \n",
    "---\n",
    "**Solution**"
   ]
  },
  {
   "cell_type": "code",
   "execution_count": null,
   "metadata": {},
   "outputs": [],
   "source": []
  },
  {
   "cell_type": "code",
   "execution_count": null,
   "metadata": {},
   "outputs": [],
   "source": []
  },
  {
   "cell_type": "code",
   "execution_count": null,
   "metadata": {},
   "outputs": [],
   "source": []
  },
  {
   "cell_type": "code",
   "execution_count": null,
   "metadata": {},
   "outputs": [],
   "source": []
  },
  {
   "cell_type": "markdown",
   "metadata": {},
   "source": [
    "*Why are they different?*:  "
   ]
  },
  {
   "cell_type": "markdown",
   "metadata": {},
   "source": [
    "### Basic Figures and Plots\n",
    "\n",
    "[Matplotlib](https://matplotlib.org/) is the foundation plotting package. Many [toolkits](https://matplotlib.org/3.4.3/api/toolkits/index.html) have been created as application-specific extentions of Matplotlib, such as map creation with [Cartopy](https://scitools.org.uk/cartopy/docs/latest/).\n"
   ]
  },
  {
   "cell_type": "code",
   "execution_count": null,
   "metadata": {},
   "outputs": [],
   "source": [
    "import matplotlib.pyplot as plt"
   ]
  },
  {
   "cell_type": "markdown",
   "metadata": {},
   "source": [
    "Suppose you want to learn what the global distribution of fire radiative power is. From inspecting the *frp(MW)* column we looked at earlier, we see these values extend to many decimal places. Rather than use a continuous scale, we can instead group the data into 10 MW bins, from 0 to 500 MW:"
   ]
  },
  {
   "cell_type": "code",
   "execution_count": null,
   "metadata": {},
   "outputs": [],
   "source": [
    "bins10MW = np.arange(0, 500, 10)"
   ]
  },
  {
   "cell_type": "markdown",
   "metadata": {},
   "source": [
    "I can use these bins to create a histogram. Line by line, the code below will do the following. Each additional line is layering elements on this empty graphic. The entire block of code must be run at once and not split into multiple cells.  \n",
    "\n",
    "1. *plt.figure()* creates a blank canvas.\n",
    "2. The histogram is added to the figure using *plt.hist()*, which automatically counts the number of rows with fire radiative power in the bins defined above as *bins10W*. We pass the data (*fires['frp(MW)']*) and the bins (*bins10MW*) to *plt.hist*. \n",
    "3. *plt.show()* completes and renders the plot."
   ]
  },
  {
   "cell_type": "code",
   "execution_count": null,
   "metadata": {},
   "outputs": [],
   "source": [
    "plt.figure(figsize=[5,5])\n",
    "plt.hist(fires['frp(MW)'], bins=bins10MW)\n",
    "plt.show()"
   ]
  },
  {
   "cell_type": "markdown",
   "metadata": {},
   "source": [
    "Below, you will remake this plot but add some aesthetic additions, such as labels to the x and y axis using *set_xlabel()* and *set_ylabel()*. There are thousands more fires with fire radiative power less than 100 MW than fires with higher values, so the data are likely [lognormal](https://en.wikipedia.org/wiki/Log-normal_distribution). The plot will be easier to interpret if I rescale the y-axis to a log scale while leaving the x-axis linear.\n",
    "\n",
    "The command *plt.subplot()* will return an axis object to a variable (*ax*). The three numbers passed in (111) correspond to rows, columns, and an index. In this example, there is one row and one column, and therefore one index."
   ]
  },
  {
   "cell_type": "code",
   "execution_count": null,
   "metadata": {},
   "outputs": [],
   "source": [
    "plt.figure()\n",
    "\n",
    "ax = plt.subplot(111)\n",
    "\n",
    "ax.hist(fires['frp(MW)'], bins=bins10MW)\n",
    "\n",
    "ax.set_yscale('log')\n",
    "\n",
    "ax.set_xlabel(\"Fire Radiative Power (MW)\")\n",
    "ax.set_ylabel(\"Counts\")\n",
    "\n",
    "plt.show()"
   ]
  },
  {
   "cell_type": "markdown",
   "metadata": {},
   "source": [
    "You can also plot the data in 2-dimensions. For example, each row in *fires* has a latitude and longitude coordinates pair. I will take these two coordinates and plot using *plt.scatter()*. The first argument is the x-coordinate and the second is the y-coordinate. (The order matters.) \n",
    "\n",
    "The following command line options are used in *plt.scatter()*:\n",
    "\n",
    "* s: size with respect to the default\n",
    "* c: color, which can be either from a predefined name list or a hexadecimal value\n",
    "* alpha: opacity, where smaller values are transparent.\n",
    "\n",
    "As in the previous example, I have chosen to label the latitude and longitude axes:"
   ]
  },
  {
   "cell_type": "code",
   "execution_count": null,
   "metadata": {},
   "outputs": [],
   "source": [
    "fig = plt.figure()\n",
    "ax = plt.subplot(111)\n",
    "\n",
    "ax.scatter(fires['Lon'], fires['Lat'], s=0.5, c='black', alpha=0.1)\n",
    "\n",
    "ax.set_xlabel('Longitude')\n",
    "ax.set_ylabel('Latitude')\n",
    "\n",
    "plt.show()"
   ]
  },
  {
   "cell_type": "markdown",
   "metadata": {},
   "source": [
    "You can almost see the outline of the continents from the data above. In the next session, you will learn how to overlay maps onto your plots."
   ]
  },
  {
   "cell_type": "markdown",
   "metadata": {},
   "source": [
    "---\n",
    "**Exercise 7:** Create a scatterplot\n",
    "\n",
    "Use the variables *aod_870* and *day_of_year* that you made in Exercise 3 to:\n",
    "\n",
    "1. Create a scatter plot showing the *day_of_year* (x-axis) and *aod_870* (y-axis)\n",
    "2. Add y-axis and x-axis labels using *.set_xlabel()* and *.set_ylabel()*\n",
    "3. Adjust the color and size of the scatterplot\n",
    "---\n",
    "**Solution**"
   ]
  },
  {
   "cell_type": "code",
   "execution_count": null,
   "metadata": {},
   "outputs": [],
   "source": []
  },
  {
   "cell_type": "markdown",
   "metadata": {},
   "source": [
    "## Summary:\n",
    "\n",
    "You learned:\n",
    "* Very basic built-in Python functions and operations\n",
    "* How to import three packages: numpy, pandas, and matplotlib\n",
    "* Worked with arrays and lists\n",
    "* How to create a simple plot\n",
    "\n",
    "Next lesson:\n",
    "* More advanced plots, such as using maps\n",
    "* Importing scientific datasets, such as netcdf and grib"
   ]
  },
  {
   "cell_type": "markdown",
   "metadata": {},
   "source": [
    "## Attribution\n",
    "\n",
    "The content for this lab is taken directly from the AGU 2021 Python for Earth Sciences workshop, developed and led by [Rebekah Esmaili](http://www.rebekahesmaili.com) (bekah@umd.edu), Research Scientist, STC/JPSS. We are grateful for Rebekah's generous support of Open Science and sharing all her hard work!\n",
    "\n",
    "Check out the original GitHub for the workshop, which also contains additional modules and great links to resources:\n",
    "\n",
    "https://github.com/modern-tools-workshop/AGU-python-workshop-2021"
   ]
  }
 ],
 "metadata": {
  "kernelspec": {
   "display_name": "Python 3 (ipykernel)",
   "language": "python",
   "name": "python3"
  },
  "language_info": {
   "codemirror_mode": {
    "name": "ipython",
    "version": 3
   },
   "file_extension": ".py",
   "mimetype": "text/x-python",
   "name": "python",
   "nbconvert_exporter": "python",
   "pygments_lexer": "ipython3",
   "version": "3.10.6"
  }
 },
 "nbformat": 4,
 "nbformat_minor": 4
}
