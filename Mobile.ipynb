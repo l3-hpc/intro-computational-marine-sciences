{
 "cells": [
  {
   "cell_type": "code",
   "execution_count": null,
   "id": "b5a0831f",
   "metadata": {},
   "outputs": [],
   "source": [
    "from folium.plugins import MarkerCluster\n",
    "import folium\n",
    "import pandas as pd"
   ]
  },
  {
   "cell_type": "code",
   "execution_count": null,
   "id": "965ce16c",
   "metadata": {},
   "outputs": [],
   "source": [
    "# Initialize map\n",
    "m = folium.Map(location=[30.50355, -87.98733], zoom_start=10)\n",
    "\n",
    "#ReadData and Define vars\n",
    "station_file = \"RESTORE-Station-List-2020.csv\"\n",
    "station_data = pd.read_csv(station_file)\n",
    "water_group = folium.FeatureGroup(name=\"Water Stations\")\n",
    "fish_group = folium.FeatureGroup(name=\"Fisheries Stations\")\n",
    "both_group = folium.FeatureGroup(name=\"Water and Fisheries Stations\")\n",
    "none_group = folium.FeatureGroup(name=\"Stations\",show=False)\n",
    "\n",
    "# locations and colors\n",
    "locations = station_data[['Lat', 'Lon']]\n",
    "locationlist = locations.values.tolist()\n",
    "Colors = [\"white\"]*len(locationlist)\n",
    "Icons = [\"\"]*len(locationlist)\n",
    "for point in range(0, len(locationlist)):\n",
    "    if station_data[\"Water Station 2020 Restore\"][point] == 'x':\n",
    "        Colors[point]=(\"blue\")\n",
    "    elif type(station_data[\"Fishery Station Names\"][point]) != float:\n",
    "        Colors[point]=(\"lightgreen\")\n",
    "    else:\n",
    "        Colors[point]=(\"white\")\n",
    "    if type(station_data[\"Site Landmarks\"][point]) != float:\n",
    "        Icons[point]=(\"institution\")\n",
    "    if station_data[\"Water Station 2020 Restore\"][point] == 'x' and type(station_data[\"Fishery Station Names\"][point]) != float:\n",
    "        Colors[point]=(\"darkgreen\")\n",
    "water = station_data['Water Station 2020 Restore'].fillna(\"\")\n",
    "fish = station_data[\"Fishery Station Names\"].fillna(\"\")\n",
    "Landmarks = station_data[\"Site Landmarks\"].fillna(\"\")\n",
    "m = folium.Map(location=[30.50355, -87.98733], zoom_start=10)\n",
    "\n",
    "\n",
    "#    marker_cluster = MarkerCluster().add_to(m)\n",
    "folium.TileLayer('openstreetmap').add_to(m)\n",
    "folium.TileLayer('Stamen Terrain').add_to(m)\n",
    "for point in range(0, len(locationlist)):\n",
    "    if Colors[point] == \"blue\": \n",
    "        water_group.add_child(folium.Marker(locationlist[point], popup=station_data['StationName'][point] + \"\\n\" + fish[point] + \"\\n\" + Landmarks[point],icon=folium.Icon(color=Colors[point],icon_color=\"red\", icon=Icons[point], angle=0, prefix='fa')))\n",
    "    elif Colors[point] == \"lightgreen\":\n",
    "        fish_group.add_child(folium.Marker(locationlist[point], popup=station_data['StationName'][point] + \"\\n\" + fish[point] + \"\\n\" + Landmarks[point],icon=folium.Icon(color=Colors[point],icon_color=\"red\", icon=Icons[point], angle=0, prefix='fa')))\n",
    "    elif Colors[point] == \"darkgreen\":\n",
    "        both_group.add_child(folium.Marker(locationlist[point], popup=station_data['StationName'][point] + \"\\n\" + fish[point] + \"\\n\" + Landmarks[point],icon=folium.Icon(color=Colors[point],icon_color=\"red\", icon=Icons[point], angle=0, prefix='fa')))\n",
    "    else: \n",
    "        none_group.add_child(folium.Marker(locationlist[point], popup=station_data['StationName'][point] + \"\\n\" + fish[point] + \"\\n\" + Landmarks[point],icon=folium.Icon(color=Colors[point],icon_color=\"red\", icon=Icons[point], angle=0, prefix='fa')))\n",
    "\n",
    "m.add_child(water_group)\n",
    "m.add_child(fish_group)\n",
    "m.add_child(both_group)\n",
    "m.add_child(none_group)\n",
    "folium.LayerControl().add_to(m)\n",
    "m"
   ]
  },
  {
   "cell_type": "code",
   "execution_count": null,
   "id": "bb8ad8f1",
   "metadata": {},
   "outputs": [],
   "source": [
    "import branca\n",
    "import branca.colormap as cm\n",
    "colormap = cm.LinearColormap(colors=['darkred','red','orange','yellow','green','darkblue','purple'], index=[1,2,3,4,5,6,20],vmin=1,vmax=20)\n",
    "colormap"
   ]
  },
  {
   "cell_type": "code",
   "execution_count": null,
   "id": "6f2913c0",
   "metadata": {},
   "outputs": [],
   "source": []
  }
 ],
 "metadata": {
  "kernelspec": {
   "display_name": "Python 3 (ipykernel)",
   "language": "python",
   "name": "python3"
  },
  "language_info": {
   "codemirror_mode": {
    "name": "ipython",
    "version": 3
   },
   "file_extension": ".py",
   "mimetype": "text/x-python",
   "name": "python",
   "nbconvert_exporter": "python",
   "pygments_lexer": "ipython3",
   "version": "3.10.6"
  }
 },
 "nbformat": 4,
 "nbformat_minor": 5
}
